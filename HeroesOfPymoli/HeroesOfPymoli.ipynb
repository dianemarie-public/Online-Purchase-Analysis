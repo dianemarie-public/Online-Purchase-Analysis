{
 "cells": [
  {
   "cell_type": "markdown",
   "metadata": {},
   "source": [
    "### Note\n",
    "* Instructions have been included for each segment. You do not have to follow them exactly, but they are included to help you think through the steps."
   ]
  },
  {
   "cell_type": "code",
   "execution_count": 1,
   "metadata": {},
   "outputs": [],
   "source": [
    "# Dependencies and Setup\n",
    "import pandas as pd\n",
    "\n",
    "# File to Load (Remember to Change These)\n",
    "file_to_load = \"Resources/purchase_data.csv\"\n",
    "\n",
    "# Read Purchasing File and store into Pandas data frame\n",
    "purchase_data = pd.read_csv(file_to_load)"
   ]
  },
  {
   "cell_type": "markdown",
   "metadata": {},
   "source": [
    "## Player Count"
   ]
  },
  {
   "cell_type": "markdown",
   "metadata": {},
   "source": [
    "* Display the total number of players\n"
   ]
  },
  {
   "cell_type": "code",
   "execution_count": 2,
   "metadata": {
    "scrolled": false
   },
   "outputs": [
    {
     "data": {
      "text/plain": [
       "Index(['Purchase ID', 'SN', 'Age', 'Gender', 'Item ID', 'Item Name', 'Price'], dtype='object')"
      ]
     },
     "execution_count": 2,
     "metadata": {},
     "output_type": "execute_result"
    }
   ],
   "source": [
    "# List the column headers\n",
    "purchase_data.columns"
   ]
  },
  {
   "cell_type": "code",
   "execution_count": 3,
   "metadata": {
    "scrolled": true
   },
   "outputs": [
    {
     "data": {
      "text/plain": [
       "780"
      ]
     },
     "execution_count": 3,
     "metadata": {},
     "output_type": "execute_result"
    }
   ],
   "source": [
    "# Variable to count all purchases by Purchase ID\n",
    "purchase_count = purchase_data[\"Purchase ID\"].count()\n",
    "purchase_count "
   ]
  },
  {
   "cell_type": "code",
   "execution_count": 4,
   "metadata": {},
   "outputs": [
    {
     "data": {
      "text/plain": [
       "576"
      ]
     },
     "execution_count": 4,
     "metadata": {},
     "output_type": "execute_result"
    }
   ],
   "source": [
    "# Variable to count of unique values in \"SN\" i.e. \"Screen Name\"\n",
    "player_count = purchase_data[\"SN\"].value_counts()\n",
    "player_count = player_count.count()\n",
    "player_count"
   ]
  },
  {
   "cell_type": "code",
   "execution_count": 5,
   "metadata": {},
   "outputs": [
    {
     "data": {
      "text/html": [
       "<div>\n",
       "<style scoped>\n",
       "    .dataframe tbody tr th:only-of-type {\n",
       "        vertical-align: middle;\n",
       "    }\n",
       "\n",
       "    .dataframe tbody tr th {\n",
       "        vertical-align: top;\n",
       "    }\n",
       "\n",
       "    .dataframe thead th {\n",
       "        text-align: right;\n",
       "    }\n",
       "</style>\n",
       "<table border=\"1\" class=\"dataframe\">\n",
       "  <thead>\n",
       "    <tr style=\"text-align: right;\">\n",
       "      <th></th>\n",
       "      <th>Total Players</th>\n",
       "    </tr>\n",
       "  </thead>\n",
       "  <tbody>\n",
       "    <tr>\n",
       "      <th>0</th>\n",
       "      <td>576</td>\n",
       "    </tr>\n",
       "  </tbody>\n",
       "</table>\n",
       "</div>"
      ],
      "text/plain": [
       "   Total Players\n",
       "0            576"
      ]
     },
     "execution_count": 5,
     "metadata": {},
     "output_type": "execute_result"
    }
   ],
   "source": [
    "# DataFrame for player_count\n",
    "players_df = pd.DataFrame({\n",
    "    \"Total Players\": [player_count]\n",
    "})\n",
    "players_df"
   ]
  },
  {
   "cell_type": "markdown",
   "metadata": {},
   "source": [
    "## Purchasing Analysis (Total)"
   ]
  },
  {
   "cell_type": "markdown",
   "metadata": {},
   "source": [
    "* Run basic calculations to obtain number of unique items, average price, etc.\n",
    "\n",
    "\n",
    "* Create a summary data frame to hold the results\n",
    "\n",
    "\n",
    "* Optional: give the displayed data cleaner formatting\n",
    "\n",
    "\n",
    "* Display the summary data frame\n"
   ]
  },
  {
   "cell_type": "code",
   "execution_count": 6,
   "metadata": {},
   "outputs": [
    {
     "data": {
      "text/plain": [
       "179"
      ]
     },
     "execution_count": 6,
     "metadata": {},
     "output_type": "execute_result"
    }
   ],
   "source": [
    "# Variable to count unique values in \"Item ID\" i.e. the number of games \n",
    "item_count = purchase_data[\"Item ID\"].value_counts()\n",
    "item_count = item_count.count()\n",
    "item_count"
   ]
  },
  {
   "cell_type": "code",
   "execution_count": 7,
   "metadata": {},
   "outputs": [
    {
     "data": {
      "text/plain": [
       "3.050987179487176"
      ]
     },
     "execution_count": 7,
     "metadata": {},
     "output_type": "execute_result"
    }
   ],
   "source": [
    "# Variable to calculate the average price per purchase\n",
    "avg_price = purchase_data[\"Price\"].mean()\n",
    "avg_price"
   ]
  },
  {
   "cell_type": "code",
   "execution_count": 8,
   "metadata": {},
   "outputs": [
    {
     "data": {
      "text/plain": [
       "2379.77"
      ]
     },
     "execution_count": 8,
     "metadata": {},
     "output_type": "execute_result"
    }
   ],
   "source": [
    "# Variable to calculate total revenue\n",
    "total_revenue = purchase_data[\"Price\"].sum()\n",
    "total_revenue"
   ]
  },
  {
   "cell_type": "code",
   "execution_count": 9,
   "metadata": {
    "scrolled": true
   },
   "outputs": [],
   "source": [
    "# Data Frame for summary of above calculations \n",
    "summary_df = pd.DataFrame({\n",
    "    \"Number of Unique Items\":[item_count],\n",
    "    \"Purchase (avg)\":[avg_price],\n",
    "    \"Purchase (count)\":[purchase_count],\n",
    "    \"Total Revenue\":[total_revenue]\n",
    "})"
   ]
  },
  {
   "cell_type": "code",
   "execution_count": 10,
   "metadata": {},
   "outputs": [
    {
     "data": {
      "text/html": [
       "<style  type=\"text/css\" >\n",
       "</style><table id=\"T_a0276439_02ca_11eb_89ef_74d83e5339f4\" ><thead>    <tr>        <th class=\"blank level0\" ></th>        <th class=\"col_heading level0 col0\" >Number of Unique Items</th>        <th class=\"col_heading level0 col1\" >Purchase (avg)</th>        <th class=\"col_heading level0 col2\" >Purchase (count)</th>        <th class=\"col_heading level0 col3\" >Total Revenue</th>    </tr></thead><tbody>\n",
       "                <tr>\n",
       "                        <th id=\"T_a0276439_02ca_11eb_89ef_74d83e5339f4level0_row0\" class=\"row_heading level0 row0\" >0</th>\n",
       "                        <td id=\"T_a0276439_02ca_11eb_89ef_74d83e5339f4row0_col0\" class=\"data row0 col0\" >179</td>\n",
       "                        <td id=\"T_a0276439_02ca_11eb_89ef_74d83e5339f4row0_col1\" class=\"data row0 col1\" >$3.05</td>\n",
       "                        <td id=\"T_a0276439_02ca_11eb_89ef_74d83e5339f4row0_col2\" class=\"data row0 col2\" >780</td>\n",
       "                        <td id=\"T_a0276439_02ca_11eb_89ef_74d83e5339f4row0_col3\" class=\"data row0 col3\" >$2379.77</td>\n",
       "            </tr>\n",
       "    </tbody></table>"
      ],
      "text/plain": [
       "<pandas.io.formats.style.Styler at 0x1683d863760>"
      ]
     },
     "execution_count": 10,
     "metadata": {},
     "output_type": "execute_result"
    }
   ],
   "source": [
    "# Format the summary_df to currency\n",
    "summary_df.style.format({\n",
    "    \"Purchase (avg)\":\"${:.2f}\",\n",
    "    \"Total Revenue\":\"${:.2f}\"\n",
    "})"
   ]
  },
  {
   "cell_type": "markdown",
   "metadata": {},
   "source": [
    "## Gender Demographics"
   ]
  },
  {
   "cell_type": "markdown",
   "metadata": {},
   "source": [
    "* Percentage and Count of Male Players\n",
    "\n",
    "\n",
    "* Percentage and Count of Female Players\n",
    "\n",
    "\n",
    "* Percentage and Count of Other / Non-Disclosed\n",
    "\n",
    "\n"
   ]
  },
  {
   "cell_type": "code",
   "execution_count": 11,
   "metadata": {},
   "outputs": [
    {
     "data": {
      "text/plain": [
       "<pandas.core.groupby.generic.DataFrameGroupBy object at 0x000001683E8FFA30>"
      ]
     },
     "execution_count": 11,
     "metadata": {},
     "output_type": "execute_result"
    }
   ],
   "source": [
    "# Group by Gender\n",
    "gender_group = purchase_data.groupby(\"Gender\")\n",
    "gender_group"
   ]
  },
  {
   "cell_type": "code",
   "execution_count": 12,
   "metadata": {
    "scrolled": true
   },
   "outputs": [
    {
     "data": {
      "text/plain": [
       "Gender\n",
       "Female                    81\n",
       "Male                     484\n",
       "Other / Non-Disclosed     11\n",
       "Name: SN, dtype: int64"
      ]
     },
     "execution_count": 12,
     "metadata": {},
     "output_type": "execute_result"
    }
   ],
   "source": [
    "# Variable to count players by \"Gender\" \n",
    "# function to count unique items by group, i.e. nunique() found here: https://pandas.pydata.org/pandas-docs/stable/reference/api/pandas.DataFrame.nunique.html \n",
    "# also found here: https://stackoverflow.com/questions/38309729/count-unique-values-with-pandas-per-groups\n",
    "gender_count = gender_group.nunique()[\"SN\"]\n",
    "gender_count"
   ]
  },
  {
   "cell_type": "code",
   "execution_count": 13,
   "metadata": {},
   "outputs": [
    {
     "data": {
      "text/plain": [
       "Gender\n",
       "Female                   0.140625\n",
       "Male                     0.840278\n",
       "Other / Non-Disclosed    0.019097\n",
       "Name: SN, dtype: float64"
      ]
     },
     "execution_count": 13,
     "metadata": {},
     "output_type": "execute_result"
    }
   ],
   "source": [
    "# Variable for percentage of players\n",
    "pct_players = gender_count/gender_count.sum()\n",
    "pct_players"
   ]
  },
  {
   "cell_type": "code",
   "execution_count": 14,
   "metadata": {},
   "outputs": [],
   "source": [
    "# DataFrame for gender count and percentage of players\n",
    "gender_df = pd.DataFrame({\n",
    "    \"Total Count\": gender_count,\n",
    "    \"Percentage of Players\": pct_players\n",
    "})"
   ]
  },
  {
   "cell_type": "code",
   "execution_count": 15,
   "metadata": {
    "scrolled": false
   },
   "outputs": [],
   "source": [
    "# Sort Gender by Total Count, in descending order\n",
    "gender_df = gender_df.sort_values(\"Total Count\", ascending=False)"
   ]
  },
  {
   "cell_type": "code",
   "execution_count": 16,
   "metadata": {},
   "outputs": [
    {
     "data": {
      "text/html": [
       "<style  type=\"text/css\" >\n",
       "</style><table id=\"T_a0393e21_02ca_11eb_b2d7_74d83e5339f4\" ><thead>    <tr>        <th class=\"blank level0\" ></th>        <th class=\"col_heading level0 col0\" >Total Count</th>        <th class=\"col_heading level0 col1\" >Percentage of Players</th>    </tr>    <tr>        <th class=\"index_name level0\" >Gender</th>        <th class=\"blank\" ></th>        <th class=\"blank\" ></th>    </tr></thead><tbody>\n",
       "                <tr>\n",
       "                        <th id=\"T_a0393e21_02ca_11eb_b2d7_74d83e5339f4level0_row0\" class=\"row_heading level0 row0\" >Male</th>\n",
       "                        <td id=\"T_a0393e21_02ca_11eb_b2d7_74d83e5339f4row0_col0\" class=\"data row0 col0\" >484</td>\n",
       "                        <td id=\"T_a0393e21_02ca_11eb_b2d7_74d83e5339f4row0_col1\" class=\"data row0 col1\" >84.03%</td>\n",
       "            </tr>\n",
       "            <tr>\n",
       "                        <th id=\"T_a0393e21_02ca_11eb_b2d7_74d83e5339f4level0_row1\" class=\"row_heading level0 row1\" >Female</th>\n",
       "                        <td id=\"T_a0393e21_02ca_11eb_b2d7_74d83e5339f4row1_col0\" class=\"data row1 col0\" >81</td>\n",
       "                        <td id=\"T_a0393e21_02ca_11eb_b2d7_74d83e5339f4row1_col1\" class=\"data row1 col1\" >14.06%</td>\n",
       "            </tr>\n",
       "            <tr>\n",
       "                        <th id=\"T_a0393e21_02ca_11eb_b2d7_74d83e5339f4level0_row2\" class=\"row_heading level0 row2\" >Other / Non-Disclosed</th>\n",
       "                        <td id=\"T_a0393e21_02ca_11eb_b2d7_74d83e5339f4row2_col0\" class=\"data row2 col0\" >11</td>\n",
       "                        <td id=\"T_a0393e21_02ca_11eb_b2d7_74d83e5339f4row2_col1\" class=\"data row2 col1\" >1.91%</td>\n",
       "            </tr>\n",
       "    </tbody></table>"
      ],
      "text/plain": [
       "<pandas.io.formats.style.Styler at 0x1683e954460>"
      ]
     },
     "execution_count": 16,
     "metadata": {},
     "output_type": "execute_result"
    }
   ],
   "source": [
    "# Format pct_players to percentage\n",
    "gender_df.style.format({\"Percentage of Players\":\"{:.2%}\"})"
   ]
  },
  {
   "cell_type": "markdown",
   "metadata": {},
   "source": [
    "\n",
    "## Purchasing Analysis (Gender)"
   ]
  },
  {
   "cell_type": "markdown",
   "metadata": {},
   "source": [
    "* Run basic calculations to obtain purchase count, avg. purchase price, avg. purchase total per person etc. by gender\n",
    "\n",
    "\n",
    "\n",
    "\n",
    "* Create a summary data frame to hold the results\n",
    "\n",
    "\n",
    "* Optional: give the displayed data cleaner formatting\n",
    "\n",
    "\n",
    "* Display the summary data frame"
   ]
  },
  {
   "cell_type": "code",
   "execution_count": 17,
   "metadata": {},
   "outputs": [
    {
     "data": {
      "text/plain": [
       "Gender\n",
       "Female                   113\n",
       "Male                     652\n",
       "Other / Non-Disclosed     15\n",
       "Name: Purchase ID, dtype: int64"
      ]
     },
     "execution_count": 17,
     "metadata": {},
     "output_type": "execute_result"
    }
   ],
   "source": [
    "# Recall variable for purchase_count and calculate by gender_group\n",
    "purchase_count = gender_group[\"Purchase ID\"].count()\n",
    "purchase_count"
   ]
  },
  {
   "cell_type": "code",
   "execution_count": 18,
   "metadata": {},
   "outputs": [
    {
     "data": {
      "text/plain": [
       "Gender\n",
       "Female                   3.203009\n",
       "Male                     3.017853\n",
       "Other / Non-Disclosed    3.346000\n",
       "Name: Price, dtype: float64"
      ]
     },
     "execution_count": 18,
     "metadata": {},
     "output_type": "execute_result"
    }
   ],
   "source": [
    "# Recall variable for avg_price and calculate by gender_group\n",
    "avg_price = gender_group[\"Price\"].mean()\n",
    "avg_price"
   ]
  },
  {
   "cell_type": "code",
   "execution_count": 19,
   "metadata": {},
   "outputs": [
    {
     "data": {
      "text/plain": [
       "Gender\n",
       "Female                    361.94\n",
       "Male                     1967.64\n",
       "Other / Non-Disclosed      50.19\n",
       "Name: Price, dtype: float64"
      ]
     },
     "execution_count": 19,
     "metadata": {},
     "output_type": "execute_result"
    }
   ],
   "source": [
    "# Recall variable for total_revenue and calculate by gender_group\n",
    "total_revenue = gender_group[\"Price\"].sum()\n",
    "total_revenue"
   ]
  },
  {
   "cell_type": "code",
   "execution_count": 20,
   "metadata": {},
   "outputs": [
    {
     "data": {
      "text/plain": [
       "Gender\n",
       "Female                   4.468395\n",
       "Male                     4.065372\n",
       "Other / Non-Disclosed    4.562727\n",
       "dtype: float64"
      ]
     },
     "execution_count": 20,
     "metadata": {},
     "output_type": "execute_result"
    }
   ],
   "source": [
    "# Create variable for avg_player_purchase using total_revenue and gender_count (distinct players)\n",
    "avg_player_purchase = total_revenue/gender_count\n",
    "avg_player_purchase"
   ]
  },
  {
   "cell_type": "code",
   "execution_count": 21,
   "metadata": {},
   "outputs": [],
   "source": [
    "# DataFrame to summarize purchases analysis\n",
    "purchase_df = pd.DataFrame({\n",
    "    \"Purchase (count)\": purchase_count,\n",
    "    \"Purchase (avg)\": avg_price,\n",
    "    \"Purchase (total)\": total_revenue,\n",
    "    \"Purchase (avg per player)\": avg_player_purchase\n",
    "})"
   ]
  },
  {
   "cell_type": "code",
   "execution_count": 22,
   "metadata": {},
   "outputs": [
    {
     "data": {
      "text/html": [
       "<style  type=\"text/css\" >\n",
       "</style><table id=\"T_a049d1b2_02ca_11eb_b034_74d83e5339f4\" ><thead>    <tr>        <th class=\"blank level0\" ></th>        <th class=\"col_heading level0 col0\" >Purchase (count)</th>        <th class=\"col_heading level0 col1\" >Purchase (avg)</th>        <th class=\"col_heading level0 col2\" >Purchase (total)</th>        <th class=\"col_heading level0 col3\" >Purchase (avg per player)</th>    </tr>    <tr>        <th class=\"index_name level0\" >Gender</th>        <th class=\"blank\" ></th>        <th class=\"blank\" ></th>        <th class=\"blank\" ></th>        <th class=\"blank\" ></th>    </tr></thead><tbody>\n",
       "                <tr>\n",
       "                        <th id=\"T_a049d1b2_02ca_11eb_b034_74d83e5339f4level0_row0\" class=\"row_heading level0 row0\" >Female</th>\n",
       "                        <td id=\"T_a049d1b2_02ca_11eb_b034_74d83e5339f4row0_col0\" class=\"data row0 col0\" >113</td>\n",
       "                        <td id=\"T_a049d1b2_02ca_11eb_b034_74d83e5339f4row0_col1\" class=\"data row0 col1\" >$3.20</td>\n",
       "                        <td id=\"T_a049d1b2_02ca_11eb_b034_74d83e5339f4row0_col2\" class=\"data row0 col2\" >$361.94</td>\n",
       "                        <td id=\"T_a049d1b2_02ca_11eb_b034_74d83e5339f4row0_col3\" class=\"data row0 col3\" >$4.47</td>\n",
       "            </tr>\n",
       "            <tr>\n",
       "                        <th id=\"T_a049d1b2_02ca_11eb_b034_74d83e5339f4level0_row1\" class=\"row_heading level0 row1\" >Male</th>\n",
       "                        <td id=\"T_a049d1b2_02ca_11eb_b034_74d83e5339f4row1_col0\" class=\"data row1 col0\" >652</td>\n",
       "                        <td id=\"T_a049d1b2_02ca_11eb_b034_74d83e5339f4row1_col1\" class=\"data row1 col1\" >$3.02</td>\n",
       "                        <td id=\"T_a049d1b2_02ca_11eb_b034_74d83e5339f4row1_col2\" class=\"data row1 col2\" >$1,967.64</td>\n",
       "                        <td id=\"T_a049d1b2_02ca_11eb_b034_74d83e5339f4row1_col3\" class=\"data row1 col3\" >$4.07</td>\n",
       "            </tr>\n",
       "            <tr>\n",
       "                        <th id=\"T_a049d1b2_02ca_11eb_b034_74d83e5339f4level0_row2\" class=\"row_heading level0 row2\" >Other / Non-Disclosed</th>\n",
       "                        <td id=\"T_a049d1b2_02ca_11eb_b034_74d83e5339f4row2_col0\" class=\"data row2 col0\" >15</td>\n",
       "                        <td id=\"T_a049d1b2_02ca_11eb_b034_74d83e5339f4row2_col1\" class=\"data row2 col1\" >$3.35</td>\n",
       "                        <td id=\"T_a049d1b2_02ca_11eb_b034_74d83e5339f4row2_col2\" class=\"data row2 col2\" >$50.19</td>\n",
       "                        <td id=\"T_a049d1b2_02ca_11eb_b034_74d83e5339f4row2_col3\" class=\"data row2 col3\" >$4.56</td>\n",
       "            </tr>\n",
       "    </tbody></table>"
      ],
      "text/plain": [
       "<pandas.io.formats.style.Styler at 0x1683e95be80>"
      ]
     },
     "execution_count": 22,
     "metadata": {},
     "output_type": "execute_result"
    }
   ],
   "source": [
    "# Format to currency\n",
    "purchase_df.style.format({\n",
    "    \"Purchase (avg)\":\"${:,.2f}\",\n",
    "    \"Purchase (total)\":\"${:,.2f}\",\n",
    "    \"Purchase (avg per player)\":\"${:,.2f}\"\n",
    "                         })"
   ]
  },
  {
   "cell_type": "markdown",
   "metadata": {},
   "source": [
    "## Age Demographics"
   ]
  },
  {
   "cell_type": "markdown",
   "metadata": {},
   "source": [
    "* Establish bins for ages\n",
    "\n",
    "\n",
    "* Categorize the existing players using the age bins. Hint: use pd.cut()\n",
    "\n",
    "\n",
    "* Calculate the numbers and percentages by age group\n",
    "\n",
    "\n",
    "* Create a summary data frame to hold the results\n",
    "\n",
    "\n",
    "* Optional: round the percentage column to two decimal points\n",
    "\n",
    "\n",
    "* Display Age Demographics Table\n"
   ]
  },
  {
   "cell_type": "code",
   "execution_count": 23,
   "metadata": {},
   "outputs": [
    {
     "data": {
      "text/plain": [
       "7"
      ]
     },
     "execution_count": 23,
     "metadata": {},
     "output_type": "execute_result"
    }
   ],
   "source": [
    "# Minimum Age\n",
    "min_age = purchase_data[\"Age\"].min()\n",
    "min_age"
   ]
  },
  {
   "cell_type": "code",
   "execution_count": 24,
   "metadata": {},
   "outputs": [
    {
     "data": {
      "text/plain": [
       "45"
      ]
     },
     "execution_count": 24,
     "metadata": {},
     "output_type": "execute_result"
    }
   ],
   "source": [
    "# Maximium Age\n",
    "max_age = purchase_data[\"Age\"].max()\n",
    "max_age"
   ]
  },
  {
   "cell_type": "code",
   "execution_count": 25,
   "metadata": {
    "scrolled": true
   },
   "outputs": [
    {
     "data": {
      "text/plain": [
       "[6, 9, 14, 19, 24, 29, 34, 39, 45]"
      ]
     },
     "execution_count": 25,
     "metadata": {},
     "output_type": "execute_result"
    }
   ],
   "source": [
    "# Set up bins\n",
    "age_bins = [min_age-1,9,14,19,24,29,34,39,max_age]\n",
    "age_bins"
   ]
  },
  {
   "cell_type": "code",
   "execution_count": 26,
   "metadata": {},
   "outputs": [
    {
     "data": {
      "text/plain": [
       "[' 0 < 10',\n",
       " '10 - 14',\n",
       " '15 - 19',\n",
       " '20 - 24',\n",
       " '25 - 29',\n",
       " '30 - 34',\n",
       " '35 - 39',\n",
       " '40 +']"
      ]
     },
     "execution_count": 26,
     "metadata": {},
     "output_type": "execute_result"
    }
   ],
   "source": [
    "# Create labels for bins\n",
    "age_bin_labels = [\" 0 < 10\",\"10 - 14\",\"15 - 19\",\"20 - 24\",\"25 - 29\",\"30 - 34\",\"35 - 39\",\"40 +\"]\n",
    "age_bin_labels"
   ]
  },
  {
   "cell_type": "code",
   "execution_count": 27,
   "metadata": {},
   "outputs": [
    {
     "data": {
      "text/plain": [
       "0    20 - 24\n",
       "1       40 +\n",
       "2    20 - 24\n",
       "3    20 - 24\n",
       "4    20 - 24\n",
       "Name: Age, dtype: category\n",
       "Categories (8, object): [0 < 10 < 10 - 14 < 15 - 19 < 20 - 24 < 25 - 29 < 30 - 34 < 35 - 39 < 40 +]"
      ]
     },
     "execution_count": 27,
     "metadata": {},
     "output_type": "execute_result"
    }
   ],
   "source": [
    "# Series to slice the data (pd.cut) and place it into bins\n",
    "pd.cut(purchase_data[\"Age\"], age_bins, labels=age_bin_labels).head()"
   ]
  },
  {
   "cell_type": "code",
   "execution_count": 28,
   "metadata": {},
   "outputs": [
    {
     "data": {
      "text/html": [
       "<div>\n",
       "<style scoped>\n",
       "    .dataframe tbody tr th:only-of-type {\n",
       "        vertical-align: middle;\n",
       "    }\n",
       "\n",
       "    .dataframe tbody tr th {\n",
       "        vertical-align: top;\n",
       "    }\n",
       "\n",
       "    .dataframe thead th {\n",
       "        text-align: right;\n",
       "    }\n",
       "</style>\n",
       "<table border=\"1\" class=\"dataframe\">\n",
       "  <thead>\n",
       "    <tr style=\"text-align: right;\">\n",
       "      <th></th>\n",
       "      <th>Purchase ID</th>\n",
       "      <th>SN</th>\n",
       "      <th>Age</th>\n",
       "      <th>Gender</th>\n",
       "      <th>Item ID</th>\n",
       "      <th>Item Name</th>\n",
       "      <th>Price</th>\n",
       "      <th>Age Group</th>\n",
       "    </tr>\n",
       "  </thead>\n",
       "  <tbody>\n",
       "    <tr>\n",
       "      <th>0</th>\n",
       "      <td>0</td>\n",
       "      <td>Lisim78</td>\n",
       "      <td>20</td>\n",
       "      <td>Male</td>\n",
       "      <td>108</td>\n",
       "      <td>Extraction, Quickblade Of Trembling Hands</td>\n",
       "      <td>3.53</td>\n",
       "      <td>20 - 24</td>\n",
       "    </tr>\n",
       "    <tr>\n",
       "      <th>1</th>\n",
       "      <td>1</td>\n",
       "      <td>Lisovynya38</td>\n",
       "      <td>40</td>\n",
       "      <td>Male</td>\n",
       "      <td>143</td>\n",
       "      <td>Frenzied Scimitar</td>\n",
       "      <td>1.56</td>\n",
       "      <td>40 +</td>\n",
       "    </tr>\n",
       "    <tr>\n",
       "      <th>2</th>\n",
       "      <td>2</td>\n",
       "      <td>Ithergue48</td>\n",
       "      <td>24</td>\n",
       "      <td>Male</td>\n",
       "      <td>92</td>\n",
       "      <td>Final Critic</td>\n",
       "      <td>4.88</td>\n",
       "      <td>20 - 24</td>\n",
       "    </tr>\n",
       "    <tr>\n",
       "      <th>3</th>\n",
       "      <td>3</td>\n",
       "      <td>Chamassasya86</td>\n",
       "      <td>24</td>\n",
       "      <td>Male</td>\n",
       "      <td>100</td>\n",
       "      <td>Blindscythe</td>\n",
       "      <td>3.27</td>\n",
       "      <td>20 - 24</td>\n",
       "    </tr>\n",
       "    <tr>\n",
       "      <th>4</th>\n",
       "      <td>4</td>\n",
       "      <td>Iskosia90</td>\n",
       "      <td>23</td>\n",
       "      <td>Male</td>\n",
       "      <td>131</td>\n",
       "      <td>Fury</td>\n",
       "      <td>1.44</td>\n",
       "      <td>20 - 24</td>\n",
       "    </tr>\n",
       "  </tbody>\n",
       "</table>\n",
       "</div>"
      ],
      "text/plain": [
       "   Purchase ID             SN  Age Gender  Item ID  \\\n",
       "0            0        Lisim78   20   Male      108   \n",
       "1            1    Lisovynya38   40   Male      143   \n",
       "2            2     Ithergue48   24   Male       92   \n",
       "3            3  Chamassasya86   24   Male      100   \n",
       "4            4      Iskosia90   23   Male      131   \n",
       "\n",
       "                                   Item Name  Price Age Group  \n",
       "0  Extraction, Quickblade Of Trembling Hands   3.53   20 - 24  \n",
       "1                          Frenzied Scimitar   1.56      40 +  \n",
       "2                               Final Critic   4.88   20 - 24  \n",
       "3                                Blindscythe   3.27   20 - 24  \n",
       "4                                       Fury   1.44   20 - 24  "
      ]
     },
     "execution_count": 28,
     "metadata": {},
     "output_type": "execute_result"
    }
   ],
   "source": [
    "# Place series into a new column inside purchase_data (DataFrame)\n",
    "purchase_data[\"Age Group\"] = pd.cut(purchase_data[\"Age\"], age_bins, labels=age_bin_labels)\n",
    "purchase_data.head()"
   ]
  },
  {
   "cell_type": "code",
   "execution_count": 29,
   "metadata": {},
   "outputs": [
    {
     "data": {
      "text/plain": [
       "<pandas.core.groupby.generic.DataFrameGroupBy object at 0x000001683E94BF70>"
      ]
     },
     "execution_count": 29,
     "metadata": {},
     "output_type": "execute_result"
    }
   ],
   "source": [
    "# Group by Age\n",
    "age_group = purchase_data.groupby(\"Age Group\")\n",
    "age_group"
   ]
  },
  {
   "cell_type": "code",
   "execution_count": 30,
   "metadata": {
    "scrolled": true
   },
   "outputs": [
    {
     "data": {
      "text/plain": [
       "Age Group\n",
       " 0 < 10     17\n",
       "10 - 14     22\n",
       "15 - 19    107\n",
       "20 - 24    258\n",
       "25 - 29     77\n",
       "30 - 34     52\n",
       "35 - 39     31\n",
       "40 +        12\n",
       "Name: SN, dtype: int64"
      ]
     },
     "execution_count": 30,
     "metadata": {},
     "output_type": "execute_result"
    }
   ],
   "source": [
    "# Create variable to count unique players by age_group\n",
    "age_count = age_group.nunique()[\"SN\"] #had to go back and fix bin limit for less than 10 to 9\n",
    "age_count"
   ]
  },
  {
   "cell_type": "code",
   "execution_count": 31,
   "metadata": {},
   "outputs": [
    {
     "data": {
      "text/plain": [
       "Age Group\n",
       " 0 < 10    0.029514\n",
       "10 - 14    0.038194\n",
       "15 - 19    0.185764\n",
       "20 - 24    0.447917\n",
       "25 - 29    0.133681\n",
       "30 - 34    0.090278\n",
       "35 - 39    0.053819\n",
       "40 +       0.020833\n",
       "Name: SN, dtype: float64"
      ]
     },
     "execution_count": 31,
     "metadata": {},
     "output_type": "execute_result"
    }
   ],
   "source": [
    "# Create variable to calculate percentage of total unique players\n",
    "pct_players = age_count/player_count\n",
    "pct_players"
   ]
  },
  {
   "cell_type": "code",
   "execution_count": 32,
   "metadata": {},
   "outputs": [],
   "source": [
    "# DataFrame for \n",
    "age_df = pd.DataFrame({\n",
    "    \"Total Count\": age_count,\n",
    "    \"Percentage of Players\": pct_players\n",
    "})"
   ]
  },
  {
   "cell_type": "code",
   "execution_count": 33,
   "metadata": {},
   "outputs": [
    {
     "data": {
      "text/html": [
       "<style  type=\"text/css\" >\n",
       "</style><table id=\"T_a06a1c44_02ca_11eb_ba29_74d83e5339f4\" ><thead>    <tr>        <th class=\"blank level0\" ></th>        <th class=\"col_heading level0 col0\" >Total Count</th>        <th class=\"col_heading level0 col1\" >Percentage of Players</th>    </tr>    <tr>        <th class=\"index_name level0\" >Age Group</th>        <th class=\"blank\" ></th>        <th class=\"blank\" ></th>    </tr></thead><tbody>\n",
       "                <tr>\n",
       "                        <th id=\"T_a06a1c44_02ca_11eb_ba29_74d83e5339f4level0_row0\" class=\"row_heading level0 row0\" > 0 < 10</th>\n",
       "                        <td id=\"T_a06a1c44_02ca_11eb_ba29_74d83e5339f4row0_col0\" class=\"data row0 col0\" >17</td>\n",
       "                        <td id=\"T_a06a1c44_02ca_11eb_ba29_74d83e5339f4row0_col1\" class=\"data row0 col1\" >2.95%</td>\n",
       "            </tr>\n",
       "            <tr>\n",
       "                        <th id=\"T_a06a1c44_02ca_11eb_ba29_74d83e5339f4level0_row1\" class=\"row_heading level0 row1\" >10 - 14</th>\n",
       "                        <td id=\"T_a06a1c44_02ca_11eb_ba29_74d83e5339f4row1_col0\" class=\"data row1 col0\" >22</td>\n",
       "                        <td id=\"T_a06a1c44_02ca_11eb_ba29_74d83e5339f4row1_col1\" class=\"data row1 col1\" >3.82%</td>\n",
       "            </tr>\n",
       "            <tr>\n",
       "                        <th id=\"T_a06a1c44_02ca_11eb_ba29_74d83e5339f4level0_row2\" class=\"row_heading level0 row2\" >15 - 19</th>\n",
       "                        <td id=\"T_a06a1c44_02ca_11eb_ba29_74d83e5339f4row2_col0\" class=\"data row2 col0\" >107</td>\n",
       "                        <td id=\"T_a06a1c44_02ca_11eb_ba29_74d83e5339f4row2_col1\" class=\"data row2 col1\" >18.58%</td>\n",
       "            </tr>\n",
       "            <tr>\n",
       "                        <th id=\"T_a06a1c44_02ca_11eb_ba29_74d83e5339f4level0_row3\" class=\"row_heading level0 row3\" >20 - 24</th>\n",
       "                        <td id=\"T_a06a1c44_02ca_11eb_ba29_74d83e5339f4row3_col0\" class=\"data row3 col0\" >258</td>\n",
       "                        <td id=\"T_a06a1c44_02ca_11eb_ba29_74d83e5339f4row3_col1\" class=\"data row3 col1\" >44.79%</td>\n",
       "            </tr>\n",
       "            <tr>\n",
       "                        <th id=\"T_a06a1c44_02ca_11eb_ba29_74d83e5339f4level0_row4\" class=\"row_heading level0 row4\" >25 - 29</th>\n",
       "                        <td id=\"T_a06a1c44_02ca_11eb_ba29_74d83e5339f4row4_col0\" class=\"data row4 col0\" >77</td>\n",
       "                        <td id=\"T_a06a1c44_02ca_11eb_ba29_74d83e5339f4row4_col1\" class=\"data row4 col1\" >13.37%</td>\n",
       "            </tr>\n",
       "            <tr>\n",
       "                        <th id=\"T_a06a1c44_02ca_11eb_ba29_74d83e5339f4level0_row5\" class=\"row_heading level0 row5\" >30 - 34</th>\n",
       "                        <td id=\"T_a06a1c44_02ca_11eb_ba29_74d83e5339f4row5_col0\" class=\"data row5 col0\" >52</td>\n",
       "                        <td id=\"T_a06a1c44_02ca_11eb_ba29_74d83e5339f4row5_col1\" class=\"data row5 col1\" >9.03%</td>\n",
       "            </tr>\n",
       "            <tr>\n",
       "                        <th id=\"T_a06a1c44_02ca_11eb_ba29_74d83e5339f4level0_row6\" class=\"row_heading level0 row6\" >35 - 39</th>\n",
       "                        <td id=\"T_a06a1c44_02ca_11eb_ba29_74d83e5339f4row6_col0\" class=\"data row6 col0\" >31</td>\n",
       "                        <td id=\"T_a06a1c44_02ca_11eb_ba29_74d83e5339f4row6_col1\" class=\"data row6 col1\" >5.38%</td>\n",
       "            </tr>\n",
       "            <tr>\n",
       "                        <th id=\"T_a06a1c44_02ca_11eb_ba29_74d83e5339f4level0_row7\" class=\"row_heading level0 row7\" >40 +</th>\n",
       "                        <td id=\"T_a06a1c44_02ca_11eb_ba29_74d83e5339f4row7_col0\" class=\"data row7 col0\" >12</td>\n",
       "                        <td id=\"T_a06a1c44_02ca_11eb_ba29_74d83e5339f4row7_col1\" class=\"data row7 col1\" >2.08%</td>\n",
       "            </tr>\n",
       "    </tbody></table>"
      ],
      "text/plain": [
       "<pandas.io.formats.style.Styler at 0x1683e95bc10>"
      ]
     },
     "execution_count": 33,
     "metadata": {},
     "output_type": "execute_result"
    }
   ],
   "source": [
    "# Format to percentage\n",
    "age_df.style.format({\"Percentage of Players\":\"{:.2%}\"})"
   ]
  },
  {
   "cell_type": "markdown",
   "metadata": {},
   "source": [
    "## Purchasing Analysis (Age)"
   ]
  },
  {
   "cell_type": "markdown",
   "metadata": {},
   "source": [
    "* Bin the purchase_data data frame by age\n",
    "\n",
    "\n",
    "* Run basic calculations to obtain purchase count, avg. purchase price, avg. purchase total per person etc. in the table below\n",
    "\n",
    "\n",
    "* Create a summary data frame to hold the results\n",
    "\n",
    "\n",
    "* Optional: give the displayed data cleaner formatting\n",
    "\n",
    "\n",
    "* Display the summary data frame"
   ]
  },
  {
   "cell_type": "code",
   "execution_count": 34,
   "metadata": {
    "scrolled": true
   },
   "outputs": [
    {
     "data": {
      "text/plain": [
       "Age Group\n",
       " 0 < 10     23\n",
       "10 - 14     28\n",
       "15 - 19    136\n",
       "20 - 24    365\n",
       "25 - 29    101\n",
       "30 - 34     73\n",
       "35 - 39     41\n",
       "40 +        13\n",
       "Name: Purchase ID, dtype: int64"
      ]
     },
     "execution_count": 34,
     "metadata": {},
     "output_type": "execute_result"
    }
   ],
   "source": [
    "# Recall variable for purchase_count and calculate by age_group\n",
    "purchase_count = age_group[\"Purchase ID\"].count()\n",
    "purchase_count"
   ]
  },
  {
   "cell_type": "code",
   "execution_count": 35,
   "metadata": {
    "scrolled": true
   },
   "outputs": [
    {
     "data": {
      "text/plain": [
       "Age Group\n",
       " 0 < 10    3.353478\n",
       "10 - 14    2.956429\n",
       "15 - 19    3.035956\n",
       "20 - 24    3.052219\n",
       "25 - 29    2.900990\n",
       "30 - 34    2.931507\n",
       "35 - 39    3.601707\n",
       "40 +       2.941538\n",
       "Name: Price, dtype: float64"
      ]
     },
     "execution_count": 35,
     "metadata": {},
     "output_type": "execute_result"
    }
   ],
   "source": [
    "# Recall variable for avg_price and calculate by age_group\n",
    "avg_price = age_group[\"Price\"].mean()\n",
    "avg_price"
   ]
  },
  {
   "cell_type": "code",
   "execution_count": 36,
   "metadata": {},
   "outputs": [
    {
     "data": {
      "text/plain": [
       "Age Group\n",
       " 0 < 10      77.13\n",
       "10 - 14      82.78\n",
       "15 - 19     412.89\n",
       "20 - 24    1114.06\n",
       "25 - 29     293.00\n",
       "30 - 34     214.00\n",
       "35 - 39     147.67\n",
       "40 +         38.24\n",
       "Name: Price, dtype: float64"
      ]
     },
     "execution_count": 36,
     "metadata": {},
     "output_type": "execute_result"
    }
   ],
   "source": [
    "# Recall variable for total_revenue and calculate by age_group\n",
    "total_revenue = age_group[\"Price\"].sum()\n",
    "total_revenue"
   ]
  },
  {
   "cell_type": "code",
   "execution_count": 37,
   "metadata": {},
   "outputs": [
    {
     "data": {
      "text/plain": [
       "Age Group\n",
       " 0 < 10    4.537059\n",
       "10 - 14    3.762727\n",
       "15 - 19    3.858785\n",
       "20 - 24    4.318062\n",
       "25 - 29    3.805195\n",
       "30 - 34    4.115385\n",
       "35 - 39    4.763548\n",
       "40 +       3.186667\n",
       "dtype: float64"
      ]
     },
     "execution_count": 37,
     "metadata": {},
     "output_type": "execute_result"
    }
   ],
   "source": [
    "# Recall variable for avg_purchase and calculate by age_group\n",
    "avg_purchase = total_revenue/age_count\n",
    "avg_purchase"
   ]
  },
  {
   "cell_type": "code",
   "execution_count": 38,
   "metadata": {},
   "outputs": [],
   "source": [
    "# DataFrame for age bins\n",
    "age_df = pd.DataFrame({\n",
    "    \"Purchase (count)\": purchase_count,\n",
    "    \"Purchase (avg)\": avg_price,\n",
    "    \"Purchase (total)\": total_revenue,\n",
    "    \"Purchase (avg per Age Group)\": avg_purchase\n",
    "})"
   ]
  },
  {
   "cell_type": "code",
   "execution_count": 39,
   "metadata": {},
   "outputs": [
    {
     "data": {
      "text/html": [
       "<style  type=\"text/css\" >\n",
       "</style><table id=\"T_a07b283b_02ca_11eb_9915_74d83e5339f4\" ><thead>    <tr>        <th class=\"blank level0\" ></th>        <th class=\"col_heading level0 col0\" >Purchase (count)</th>        <th class=\"col_heading level0 col1\" >Purchase (avg)</th>        <th class=\"col_heading level0 col2\" >Purchase (total)</th>        <th class=\"col_heading level0 col3\" >Purchase (avg per Age Group)</th>    </tr>    <tr>        <th class=\"index_name level0\" >Age Group</th>        <th class=\"blank\" ></th>        <th class=\"blank\" ></th>        <th class=\"blank\" ></th>        <th class=\"blank\" ></th>    </tr></thead><tbody>\n",
       "                <tr>\n",
       "                        <th id=\"T_a07b283b_02ca_11eb_9915_74d83e5339f4level0_row0\" class=\"row_heading level0 row0\" > 0 < 10</th>\n",
       "                        <td id=\"T_a07b283b_02ca_11eb_9915_74d83e5339f4row0_col0\" class=\"data row0 col0\" >23</td>\n",
       "                        <td id=\"T_a07b283b_02ca_11eb_9915_74d83e5339f4row0_col1\" class=\"data row0 col1\" >$3.35</td>\n",
       "                        <td id=\"T_a07b283b_02ca_11eb_9915_74d83e5339f4row0_col2\" class=\"data row0 col2\" >$77.13</td>\n",
       "                        <td id=\"T_a07b283b_02ca_11eb_9915_74d83e5339f4row0_col3\" class=\"data row0 col3\" >$4.54</td>\n",
       "            </tr>\n",
       "            <tr>\n",
       "                        <th id=\"T_a07b283b_02ca_11eb_9915_74d83e5339f4level0_row1\" class=\"row_heading level0 row1\" >10 - 14</th>\n",
       "                        <td id=\"T_a07b283b_02ca_11eb_9915_74d83e5339f4row1_col0\" class=\"data row1 col0\" >28</td>\n",
       "                        <td id=\"T_a07b283b_02ca_11eb_9915_74d83e5339f4row1_col1\" class=\"data row1 col1\" >$2.96</td>\n",
       "                        <td id=\"T_a07b283b_02ca_11eb_9915_74d83e5339f4row1_col2\" class=\"data row1 col2\" >$82.78</td>\n",
       "                        <td id=\"T_a07b283b_02ca_11eb_9915_74d83e5339f4row1_col3\" class=\"data row1 col3\" >$3.76</td>\n",
       "            </tr>\n",
       "            <tr>\n",
       "                        <th id=\"T_a07b283b_02ca_11eb_9915_74d83e5339f4level0_row2\" class=\"row_heading level0 row2\" >15 - 19</th>\n",
       "                        <td id=\"T_a07b283b_02ca_11eb_9915_74d83e5339f4row2_col0\" class=\"data row2 col0\" >136</td>\n",
       "                        <td id=\"T_a07b283b_02ca_11eb_9915_74d83e5339f4row2_col1\" class=\"data row2 col1\" >$3.04</td>\n",
       "                        <td id=\"T_a07b283b_02ca_11eb_9915_74d83e5339f4row2_col2\" class=\"data row2 col2\" >$412.89</td>\n",
       "                        <td id=\"T_a07b283b_02ca_11eb_9915_74d83e5339f4row2_col3\" class=\"data row2 col3\" >$3.86</td>\n",
       "            </tr>\n",
       "            <tr>\n",
       "                        <th id=\"T_a07b283b_02ca_11eb_9915_74d83e5339f4level0_row3\" class=\"row_heading level0 row3\" >20 - 24</th>\n",
       "                        <td id=\"T_a07b283b_02ca_11eb_9915_74d83e5339f4row3_col0\" class=\"data row3 col0\" >365</td>\n",
       "                        <td id=\"T_a07b283b_02ca_11eb_9915_74d83e5339f4row3_col1\" class=\"data row3 col1\" >$3.05</td>\n",
       "                        <td id=\"T_a07b283b_02ca_11eb_9915_74d83e5339f4row3_col2\" class=\"data row3 col2\" >$1,114.06</td>\n",
       "                        <td id=\"T_a07b283b_02ca_11eb_9915_74d83e5339f4row3_col3\" class=\"data row3 col3\" >$4.32</td>\n",
       "            </tr>\n",
       "            <tr>\n",
       "                        <th id=\"T_a07b283b_02ca_11eb_9915_74d83e5339f4level0_row4\" class=\"row_heading level0 row4\" >25 - 29</th>\n",
       "                        <td id=\"T_a07b283b_02ca_11eb_9915_74d83e5339f4row4_col0\" class=\"data row4 col0\" >101</td>\n",
       "                        <td id=\"T_a07b283b_02ca_11eb_9915_74d83e5339f4row4_col1\" class=\"data row4 col1\" >$2.90</td>\n",
       "                        <td id=\"T_a07b283b_02ca_11eb_9915_74d83e5339f4row4_col2\" class=\"data row4 col2\" >$293.00</td>\n",
       "                        <td id=\"T_a07b283b_02ca_11eb_9915_74d83e5339f4row4_col3\" class=\"data row4 col3\" >$3.81</td>\n",
       "            </tr>\n",
       "            <tr>\n",
       "                        <th id=\"T_a07b283b_02ca_11eb_9915_74d83e5339f4level0_row5\" class=\"row_heading level0 row5\" >30 - 34</th>\n",
       "                        <td id=\"T_a07b283b_02ca_11eb_9915_74d83e5339f4row5_col0\" class=\"data row5 col0\" >73</td>\n",
       "                        <td id=\"T_a07b283b_02ca_11eb_9915_74d83e5339f4row5_col1\" class=\"data row5 col1\" >$2.93</td>\n",
       "                        <td id=\"T_a07b283b_02ca_11eb_9915_74d83e5339f4row5_col2\" class=\"data row5 col2\" >$214.00</td>\n",
       "                        <td id=\"T_a07b283b_02ca_11eb_9915_74d83e5339f4row5_col3\" class=\"data row5 col3\" >$4.12</td>\n",
       "            </tr>\n",
       "            <tr>\n",
       "                        <th id=\"T_a07b283b_02ca_11eb_9915_74d83e5339f4level0_row6\" class=\"row_heading level0 row6\" >35 - 39</th>\n",
       "                        <td id=\"T_a07b283b_02ca_11eb_9915_74d83e5339f4row6_col0\" class=\"data row6 col0\" >41</td>\n",
       "                        <td id=\"T_a07b283b_02ca_11eb_9915_74d83e5339f4row6_col1\" class=\"data row6 col1\" >$3.60</td>\n",
       "                        <td id=\"T_a07b283b_02ca_11eb_9915_74d83e5339f4row6_col2\" class=\"data row6 col2\" >$147.67</td>\n",
       "                        <td id=\"T_a07b283b_02ca_11eb_9915_74d83e5339f4row6_col3\" class=\"data row6 col3\" >$4.76</td>\n",
       "            </tr>\n",
       "            <tr>\n",
       "                        <th id=\"T_a07b283b_02ca_11eb_9915_74d83e5339f4level0_row7\" class=\"row_heading level0 row7\" >40 +</th>\n",
       "                        <td id=\"T_a07b283b_02ca_11eb_9915_74d83e5339f4row7_col0\" class=\"data row7 col0\" >13</td>\n",
       "                        <td id=\"T_a07b283b_02ca_11eb_9915_74d83e5339f4row7_col1\" class=\"data row7 col1\" >$2.94</td>\n",
       "                        <td id=\"T_a07b283b_02ca_11eb_9915_74d83e5339f4row7_col2\" class=\"data row7 col2\" >$38.24</td>\n",
       "                        <td id=\"T_a07b283b_02ca_11eb_9915_74d83e5339f4row7_col3\" class=\"data row7 col3\" >$3.19</td>\n",
       "            </tr>\n",
       "    </tbody></table>"
      ],
      "text/plain": [
       "<pandas.io.formats.style.Styler at 0x1683e969f10>"
      ]
     },
     "execution_count": 39,
     "metadata": {},
     "output_type": "execute_result"
    }
   ],
   "source": [
    "# Format to currency\n",
    "age_df.style.format({\n",
    "    \"Purchase (avg)\":\"${:,.2f}\",\n",
    "    \"Purchase (total)\":\"${:,.2f}\",\n",
    "    \"Purchase (avg per Age Group)\":\"${:,.2f}\"\n",
    "                         })"
   ]
  },
  {
   "cell_type": "markdown",
   "metadata": {},
   "source": [
    "## Top Spenders"
   ]
  },
  {
   "cell_type": "markdown",
   "metadata": {},
   "source": [
    "* Run basic calculations to obtain the results in the table below\n",
    "\n",
    "\n",
    "* Create a summary data frame to hold the results\n",
    "\n",
    "\n",
    "* Sort the total purchase value column in descending order\n",
    "\n",
    "\n",
    "* Optional: give the displayed data cleaner formatting\n",
    "\n",
    "\n",
    "* Display a preview of the summary data frame\n",
    "\n"
   ]
  },
  {
   "cell_type": "code",
   "execution_count": 40,
   "metadata": {},
   "outputs": [
    {
     "data": {
      "text/plain": [
       "<pandas.core.groupby.generic.DataFrameGroupBy object at 0x000001683E969670>"
      ]
     },
     "execution_count": 40,
     "metadata": {},
     "output_type": "execute_result"
    }
   ],
   "source": [
    "# 1. GroupBy unique players i.e. \"SN\"\n",
    "player_group = purchase_data.groupby(\"SN\")\n",
    "player_group"
   ]
  },
  {
   "cell_type": "code",
   "execution_count": 41,
   "metadata": {},
   "outputs": [],
   "source": [
    "# Recall purchase_count and calculate by player_group\n",
    "purchase_count = player_group[\"Purchase ID\"]\n",
    "purchase_count = purchase_count.count()"
   ]
  },
  {
   "cell_type": "code",
   "execution_count": 42,
   "metadata": {},
   "outputs": [],
   "source": [
    "# Recall avg_price and calculate by player_group\n",
    "avg_price = player_group[\"Price\"].mean()"
   ]
  },
  {
   "cell_type": "code",
   "execution_count": 43,
   "metadata": {},
   "outputs": [],
   "source": [
    "# Recall total_revenue and calculate by player_group\n",
    "total_revenue = player_group[\"Price\"].sum()"
   ]
  },
  {
   "cell_type": "code",
   "execution_count": 44,
   "metadata": {},
   "outputs": [],
   "source": [
    "# Recall avg_purchase and calculate by player_group\n",
    "avg_purchase = total_revenue/player_count"
   ]
  },
  {
   "cell_type": "code",
   "execution_count": 45,
   "metadata": {},
   "outputs": [],
   "source": [
    "# Create DataFrame for players_df\n",
    "players_df = pd.DataFrame({\n",
    "    \"Purchase (count)\": purchase_count,\n",
    "    \"Purchase (avg)\": avg_price,\n",
    "    \"Purchase (total)\": total_revenue,\n",
    "})\n",
    "\n",
    "# Sort from most to least\n",
    "players_df = players_df.sort_values(\"Purchase (total)\", ascending=False)"
   ]
  },
  {
   "cell_type": "code",
   "execution_count": 46,
   "metadata": {},
   "outputs": [],
   "source": [
    "# Limit to the top 5 players by purchase total\n",
    "top_5 = players_df.head(5)"
   ]
  },
  {
   "cell_type": "code",
   "execution_count": 47,
   "metadata": {
    "scrolled": false
   },
   "outputs": [
    {
     "data": {
      "text/html": [
       "<style  type=\"text/css\" >\n",
       "</style><table id=\"T_a08e2db7_02ca_11eb_9865_74d83e5339f4\" ><thead>    <tr>        <th class=\"blank level0\" ></th>        <th class=\"col_heading level0 col0\" >Purchase (count)</th>        <th class=\"col_heading level0 col1\" >Purchase (avg)</th>        <th class=\"col_heading level0 col2\" >Purchase (total)</th>    </tr>    <tr>        <th class=\"index_name level0\" >SN</th>        <th class=\"blank\" ></th>        <th class=\"blank\" ></th>        <th class=\"blank\" ></th>    </tr></thead><tbody>\n",
       "                <tr>\n",
       "                        <th id=\"T_a08e2db7_02ca_11eb_9865_74d83e5339f4level0_row0\" class=\"row_heading level0 row0\" >Lisosia93</th>\n",
       "                        <td id=\"T_a08e2db7_02ca_11eb_9865_74d83e5339f4row0_col0\" class=\"data row0 col0\" >5</td>\n",
       "                        <td id=\"T_a08e2db7_02ca_11eb_9865_74d83e5339f4row0_col1\" class=\"data row0 col1\" >$3.79</td>\n",
       "                        <td id=\"T_a08e2db7_02ca_11eb_9865_74d83e5339f4row0_col2\" class=\"data row0 col2\" >$18.96</td>\n",
       "            </tr>\n",
       "            <tr>\n",
       "                        <th id=\"T_a08e2db7_02ca_11eb_9865_74d83e5339f4level0_row1\" class=\"row_heading level0 row1\" >Idastidru52</th>\n",
       "                        <td id=\"T_a08e2db7_02ca_11eb_9865_74d83e5339f4row1_col0\" class=\"data row1 col0\" >4</td>\n",
       "                        <td id=\"T_a08e2db7_02ca_11eb_9865_74d83e5339f4row1_col1\" class=\"data row1 col1\" >$3.86</td>\n",
       "                        <td id=\"T_a08e2db7_02ca_11eb_9865_74d83e5339f4row1_col2\" class=\"data row1 col2\" >$15.45</td>\n",
       "            </tr>\n",
       "            <tr>\n",
       "                        <th id=\"T_a08e2db7_02ca_11eb_9865_74d83e5339f4level0_row2\" class=\"row_heading level0 row2\" >Chamjask73</th>\n",
       "                        <td id=\"T_a08e2db7_02ca_11eb_9865_74d83e5339f4row2_col0\" class=\"data row2 col0\" >3</td>\n",
       "                        <td id=\"T_a08e2db7_02ca_11eb_9865_74d83e5339f4row2_col1\" class=\"data row2 col1\" >$4.61</td>\n",
       "                        <td id=\"T_a08e2db7_02ca_11eb_9865_74d83e5339f4row2_col2\" class=\"data row2 col2\" >$13.83</td>\n",
       "            </tr>\n",
       "            <tr>\n",
       "                        <th id=\"T_a08e2db7_02ca_11eb_9865_74d83e5339f4level0_row3\" class=\"row_heading level0 row3\" >Iral74</th>\n",
       "                        <td id=\"T_a08e2db7_02ca_11eb_9865_74d83e5339f4row3_col0\" class=\"data row3 col0\" >4</td>\n",
       "                        <td id=\"T_a08e2db7_02ca_11eb_9865_74d83e5339f4row3_col1\" class=\"data row3 col1\" >$3.40</td>\n",
       "                        <td id=\"T_a08e2db7_02ca_11eb_9865_74d83e5339f4row3_col2\" class=\"data row3 col2\" >$13.62</td>\n",
       "            </tr>\n",
       "            <tr>\n",
       "                        <th id=\"T_a08e2db7_02ca_11eb_9865_74d83e5339f4level0_row4\" class=\"row_heading level0 row4\" >Iskadarya95</th>\n",
       "                        <td id=\"T_a08e2db7_02ca_11eb_9865_74d83e5339f4row4_col0\" class=\"data row4 col0\" >3</td>\n",
       "                        <td id=\"T_a08e2db7_02ca_11eb_9865_74d83e5339f4row4_col1\" class=\"data row4 col1\" >$4.37</td>\n",
       "                        <td id=\"T_a08e2db7_02ca_11eb_9865_74d83e5339f4row4_col2\" class=\"data row4 col2\" >$13.10</td>\n",
       "            </tr>\n",
       "    </tbody></table>"
      ],
      "text/plain": [
       "<pandas.io.formats.style.Styler at 0x1683e998b80>"
      ]
     },
     "execution_count": 47,
     "metadata": {},
     "output_type": "execute_result"
    }
   ],
   "source": [
    "# Format columns to currency\n",
    "top_5.style.format({\n",
    "    \"Purchase (avg)\":\"${:,.2f}\",\n",
    "    \"Purchase (total)\":\"${:,.2f}\"\n",
    "})"
   ]
  },
  {
   "cell_type": "markdown",
   "metadata": {},
   "source": [
    "## Most Popular Items"
   ]
  },
  {
   "cell_type": "markdown",
   "metadata": {},
   "source": [
    "* Retrieve the Item ID, Item Name, and Item Price columns\n",
    "\n",
    "\n",
    "* Group by Item ID and Item Name. Perform calculations to obtain purchase count, average item price, and total purchase value\n",
    "\n",
    "\n",
    "* Create a summary data frame to hold the results\n",
    "\n",
    "\n",
    "* Sort the purchase count column in descending order\n",
    "\n",
    "\n",
    "* Optional: give the displayed data cleaner formatting\n",
    "\n",
    "\n",
    "* Display a preview of the summary data frame\n",
    "\n"
   ]
  },
  {
   "cell_type": "code",
   "execution_count": 48,
   "metadata": {},
   "outputs": [
    {
     "data": {
      "text/plain": [
       "Index(['Purchase ID', 'SN', 'Age', 'Gender', 'Item ID', 'Item Name', 'Price',\n",
       "       'Age Group'],\n",
       "      dtype='object')"
      ]
     },
     "execution_count": 48,
     "metadata": {},
     "output_type": "execute_result"
    }
   ],
   "source": [
    "# List the column headers\n",
    "purchase_data.columns"
   ]
  },
  {
   "cell_type": "code",
   "execution_count": 49,
   "metadata": {},
   "outputs": [
    {
     "data": {
      "text/plain": [
       "<pandas.core.groupby.generic.DataFrameGroupBy object at 0x000001683E99A4F0>"
      ]
     },
     "execution_count": 49,
     "metadata": {},
     "output_type": "execute_result"
    }
   ],
   "source": [
    "# Create item_group from purchase_data using Item ID and Item Name\n",
    "item_group = purchase_data.groupby([\"Item ID\",\"Item Name\"])\n",
    "item_group"
   ]
  },
  {
   "cell_type": "code",
   "execution_count": 50,
   "metadata": {},
   "outputs": [],
   "source": [
    "# Recall purchase_count and calculate by player_group\n",
    "purchase_count = item_group[\"Purchase ID\"]\n",
    "purchase_count = purchase_count.count()\n",
    "\n",
    "# Recall avg_price and calculate by player_group\n",
    "item_price = item_group[\"Price\"].mean()\n",
    "\n",
    "# Recall total_revenue and calculate by player_group\n",
    "total_revenue = purchase_count*item_price"
   ]
  },
  {
   "cell_type": "code",
   "execution_count": 51,
   "metadata": {},
   "outputs": [],
   "source": [
    "# Create DataFrame for items_df\n",
    "items_df = pd.DataFrame({\n",
    "    \"Purchase (count)\": purchase_count,\n",
    "    \"Item Price\": item_price,\n",
    "    \"Purchase (total)\": total_revenue,\n",
    "})"
   ]
  },
  {
   "cell_type": "code",
   "execution_count": 52,
   "metadata": {},
   "outputs": [],
   "source": [
    "# Sort from most to least by purchase_count\n",
    "items_df = items_df.sort_values(\"Purchase (count)\", ascending=False)"
   ]
  },
  {
   "cell_type": "code",
   "execution_count": 53,
   "metadata": {
    "scrolled": true
   },
   "outputs": [],
   "source": [
    "# List the top 5 players by purchase count\n",
    "top_5 = items_df.head(5)"
   ]
  },
  {
   "cell_type": "code",
   "execution_count": 54,
   "metadata": {},
   "outputs": [
    {
     "data": {
      "text/html": [
       "<style  type=\"text/css\" >\n",
       "</style><table id=\"T_a09fd141_02ca_11eb_aa39_74d83e5339f4\" ><thead>    <tr>        <th class=\"blank\" ></th>        <th class=\"blank level0\" ></th>        <th class=\"col_heading level0 col0\" >Purchase (count)</th>        <th class=\"col_heading level0 col1\" >Item Price</th>        <th class=\"col_heading level0 col2\" >Purchase (total)</th>    </tr>    <tr>        <th class=\"index_name level0\" >Item ID</th>        <th class=\"index_name level1\" >Item Name</th>        <th class=\"blank\" ></th>        <th class=\"blank\" ></th>        <th class=\"blank\" ></th>    </tr></thead><tbody>\n",
       "                <tr>\n",
       "                        <th id=\"T_a09fd141_02ca_11eb_aa39_74d83e5339f4level0_row0\" class=\"row_heading level0 row0\" >92</th>\n",
       "                        <th id=\"T_a09fd141_02ca_11eb_aa39_74d83e5339f4level1_row0\" class=\"row_heading level1 row0\" >Final Critic</th>\n",
       "                        <td id=\"T_a09fd141_02ca_11eb_aa39_74d83e5339f4row0_col0\" class=\"data row0 col0\" >13</td>\n",
       "                        <td id=\"T_a09fd141_02ca_11eb_aa39_74d83e5339f4row0_col1\" class=\"data row0 col1\" >$4.61</td>\n",
       "                        <td id=\"T_a09fd141_02ca_11eb_aa39_74d83e5339f4row0_col2\" class=\"data row0 col2\" >$59.99</td>\n",
       "            </tr>\n",
       "            <tr>\n",
       "                        <th id=\"T_a09fd141_02ca_11eb_aa39_74d83e5339f4level0_row1\" class=\"row_heading level0 row1\" >178</th>\n",
       "                        <th id=\"T_a09fd141_02ca_11eb_aa39_74d83e5339f4level1_row1\" class=\"row_heading level1 row1\" >Oathbreaker, Last Hope of the Breaking Storm</th>\n",
       "                        <td id=\"T_a09fd141_02ca_11eb_aa39_74d83e5339f4row1_col0\" class=\"data row1 col0\" >12</td>\n",
       "                        <td id=\"T_a09fd141_02ca_11eb_aa39_74d83e5339f4row1_col1\" class=\"data row1 col1\" >$4.23</td>\n",
       "                        <td id=\"T_a09fd141_02ca_11eb_aa39_74d83e5339f4row1_col2\" class=\"data row1 col2\" >$50.76</td>\n",
       "            </tr>\n",
       "            <tr>\n",
       "                        <th id=\"T_a09fd141_02ca_11eb_aa39_74d83e5339f4level0_row2\" class=\"row_heading level0 row2\" >145</th>\n",
       "                        <th id=\"T_a09fd141_02ca_11eb_aa39_74d83e5339f4level1_row2\" class=\"row_heading level1 row2\" >Fiery Glass Crusader</th>\n",
       "                        <td id=\"T_a09fd141_02ca_11eb_aa39_74d83e5339f4row2_col0\" class=\"data row2 col0\" >9</td>\n",
       "                        <td id=\"T_a09fd141_02ca_11eb_aa39_74d83e5339f4row2_col1\" class=\"data row2 col1\" >$4.58</td>\n",
       "                        <td id=\"T_a09fd141_02ca_11eb_aa39_74d83e5339f4row2_col2\" class=\"data row2 col2\" >$41.22</td>\n",
       "            </tr>\n",
       "            <tr>\n",
       "                        <th id=\"T_a09fd141_02ca_11eb_aa39_74d83e5339f4level0_row3\" class=\"row_heading level0 row3\" >132</th>\n",
       "                        <th id=\"T_a09fd141_02ca_11eb_aa39_74d83e5339f4level1_row3\" class=\"row_heading level1 row3\" >Persuasion</th>\n",
       "                        <td id=\"T_a09fd141_02ca_11eb_aa39_74d83e5339f4row3_col0\" class=\"data row3 col0\" >9</td>\n",
       "                        <td id=\"T_a09fd141_02ca_11eb_aa39_74d83e5339f4row3_col1\" class=\"data row3 col1\" >$3.22</td>\n",
       "                        <td id=\"T_a09fd141_02ca_11eb_aa39_74d83e5339f4row3_col2\" class=\"data row3 col2\" >$28.99</td>\n",
       "            </tr>\n",
       "            <tr>\n",
       "                        <th id=\"T_a09fd141_02ca_11eb_aa39_74d83e5339f4level0_row4\" class=\"row_heading level0 row4\" >108</th>\n",
       "                        <th id=\"T_a09fd141_02ca_11eb_aa39_74d83e5339f4level1_row4\" class=\"row_heading level1 row4\" >Extraction, Quickblade Of Trembling Hands</th>\n",
       "                        <td id=\"T_a09fd141_02ca_11eb_aa39_74d83e5339f4row4_col0\" class=\"data row4 col0\" >9</td>\n",
       "                        <td id=\"T_a09fd141_02ca_11eb_aa39_74d83e5339f4row4_col1\" class=\"data row4 col1\" >$3.53</td>\n",
       "                        <td id=\"T_a09fd141_02ca_11eb_aa39_74d83e5339f4row4_col2\" class=\"data row4 col2\" >$31.77</td>\n",
       "            </tr>\n",
       "    </tbody></table>"
      ],
      "text/plain": [
       "<pandas.io.formats.style.Styler at 0x1683e9a0790>"
      ]
     },
     "execution_count": 54,
     "metadata": {},
     "output_type": "execute_result"
    }
   ],
   "source": [
    "# Format columns to currency\n",
    "top_5.style.format({\n",
    "    \"Purchase (count)\":\"{:,.0f}\",\n",
    "    \"Item Price\":\"${:,.2f}\",\n",
    "    \"Purchase (total)\":\"${:,.2f}\"\n",
    "})\n",
    "# Lookup how to make Item Name bold and align the header rows, etc."
   ]
  },
  {
   "cell_type": "markdown",
   "metadata": {},
   "source": [
    "## Most Profitable Items"
   ]
  },
  {
   "cell_type": "markdown",
   "metadata": {},
   "source": [
    "* Sort the above table by total purchase value in descending order\n",
    "\n",
    "\n",
    "* Optional: give the displayed data cleaner formatting\n",
    "\n",
    "\n",
    "* Display a preview of the data frame\n",
    "\n"
   ]
  },
  {
   "cell_type": "code",
   "execution_count": 55,
   "metadata": {
    "scrolled": false
   },
   "outputs": [],
   "source": [
    "# # Sort from most to least\n",
    "items_df = items_df.sort_values(\"Purchase (total)\", ascending=False)"
   ]
  },
  {
   "cell_type": "code",
   "execution_count": 56,
   "metadata": {},
   "outputs": [],
   "source": [
    "# Top 5 players by purchase total\n",
    "top_5 = items_df.head(5)"
   ]
  },
  {
   "cell_type": "code",
   "execution_count": 57,
   "metadata": {},
   "outputs": [
    {
     "data": {
      "text/html": [
       "<style  type=\"text/css\" >\n",
       "</style><table id=\"T_a0a93af3_02ca_11eb_822c_74d83e5339f4\" ><thead>    <tr>        <th class=\"blank\" ></th>        <th class=\"blank level0\" ></th>        <th class=\"col_heading level0 col0\" >Purchase (count)</th>        <th class=\"col_heading level0 col1\" >Item Price</th>        <th class=\"col_heading level0 col2\" >Purchase (total)</th>    </tr>    <tr>        <th class=\"index_name level0\" >Item ID</th>        <th class=\"index_name level1\" >Item Name</th>        <th class=\"blank\" ></th>        <th class=\"blank\" ></th>        <th class=\"blank\" ></th>    </tr></thead><tbody>\n",
       "                <tr>\n",
       "                        <th id=\"T_a0a93af3_02ca_11eb_822c_74d83e5339f4level0_row0\" class=\"row_heading level0 row0\" >92</th>\n",
       "                        <th id=\"T_a0a93af3_02ca_11eb_822c_74d83e5339f4level1_row0\" class=\"row_heading level1 row0\" >Final Critic</th>\n",
       "                        <td id=\"T_a0a93af3_02ca_11eb_822c_74d83e5339f4row0_col0\" class=\"data row0 col0\" >13</td>\n",
       "                        <td id=\"T_a0a93af3_02ca_11eb_822c_74d83e5339f4row0_col1\" class=\"data row0 col1\" >$4.61</td>\n",
       "                        <td id=\"T_a0a93af3_02ca_11eb_822c_74d83e5339f4row0_col2\" class=\"data row0 col2\" >$59.99</td>\n",
       "            </tr>\n",
       "            <tr>\n",
       "                        <th id=\"T_a0a93af3_02ca_11eb_822c_74d83e5339f4level0_row1\" class=\"row_heading level0 row1\" >178</th>\n",
       "                        <th id=\"T_a0a93af3_02ca_11eb_822c_74d83e5339f4level1_row1\" class=\"row_heading level1 row1\" >Oathbreaker, Last Hope of the Breaking Storm</th>\n",
       "                        <td id=\"T_a0a93af3_02ca_11eb_822c_74d83e5339f4row1_col0\" class=\"data row1 col0\" >12</td>\n",
       "                        <td id=\"T_a0a93af3_02ca_11eb_822c_74d83e5339f4row1_col1\" class=\"data row1 col1\" >$4.23</td>\n",
       "                        <td id=\"T_a0a93af3_02ca_11eb_822c_74d83e5339f4row1_col2\" class=\"data row1 col2\" >$50.76</td>\n",
       "            </tr>\n",
       "            <tr>\n",
       "                        <th id=\"T_a0a93af3_02ca_11eb_822c_74d83e5339f4level0_row2\" class=\"row_heading level0 row2\" >82</th>\n",
       "                        <th id=\"T_a0a93af3_02ca_11eb_822c_74d83e5339f4level1_row2\" class=\"row_heading level1 row2\" >Nirvana</th>\n",
       "                        <td id=\"T_a0a93af3_02ca_11eb_822c_74d83e5339f4row2_col0\" class=\"data row2 col0\" >9</td>\n",
       "                        <td id=\"T_a0a93af3_02ca_11eb_822c_74d83e5339f4row2_col1\" class=\"data row2 col1\" >$4.90</td>\n",
       "                        <td id=\"T_a0a93af3_02ca_11eb_822c_74d83e5339f4row2_col2\" class=\"data row2 col2\" >$44.10</td>\n",
       "            </tr>\n",
       "            <tr>\n",
       "                        <th id=\"T_a0a93af3_02ca_11eb_822c_74d83e5339f4level0_row3\" class=\"row_heading level0 row3\" >145</th>\n",
       "                        <th id=\"T_a0a93af3_02ca_11eb_822c_74d83e5339f4level1_row3\" class=\"row_heading level1 row3\" >Fiery Glass Crusader</th>\n",
       "                        <td id=\"T_a0a93af3_02ca_11eb_822c_74d83e5339f4row3_col0\" class=\"data row3 col0\" >9</td>\n",
       "                        <td id=\"T_a0a93af3_02ca_11eb_822c_74d83e5339f4row3_col1\" class=\"data row3 col1\" >$4.58</td>\n",
       "                        <td id=\"T_a0a93af3_02ca_11eb_822c_74d83e5339f4row3_col2\" class=\"data row3 col2\" >$41.22</td>\n",
       "            </tr>\n",
       "            <tr>\n",
       "                        <th id=\"T_a0a93af3_02ca_11eb_822c_74d83e5339f4level0_row4\" class=\"row_heading level0 row4\" >103</th>\n",
       "                        <th id=\"T_a0a93af3_02ca_11eb_822c_74d83e5339f4level1_row4\" class=\"row_heading level1 row4\" >Singed Scalpel</th>\n",
       "                        <td id=\"T_a0a93af3_02ca_11eb_822c_74d83e5339f4row4_col0\" class=\"data row4 col0\" >8</td>\n",
       "                        <td id=\"T_a0a93af3_02ca_11eb_822c_74d83e5339f4row4_col1\" class=\"data row4 col1\" >$4.35</td>\n",
       "                        <td id=\"T_a0a93af3_02ca_11eb_822c_74d83e5339f4row4_col2\" class=\"data row4 col2\" >$34.80</td>\n",
       "            </tr>\n",
       "    </tbody></table>"
      ],
      "text/plain": [
       "<pandas.io.formats.style.Styler at 0x1683e9a67f0>"
      ]
     },
     "execution_count": 57,
     "metadata": {},
     "output_type": "execute_result"
    }
   ],
   "source": [
    "# Format columns to currency\n",
    "top_5.style.format({\n",
    "    \"Purchase (count)\":\"{:,.0f}\",\n",
    "    \"Item Price\":\"${:,.2f}\",\n",
    "    \"Purchase (total)\":\"${:,.2f}\"\n",
    "})\n",
    "# Lookup how to make Item Name bold and align the header rows, etc.(?)"
   ]
  }
 ],
 "metadata": {
  "anaconda-cloud": {},
  "kernel_info": {
   "name": "python3"
  },
  "kernelspec": {
   "display_name": "Python 3",
   "language": "python",
   "name": "python3"
  },
  "language_info": {
   "codemirror_mode": {
    "name": "ipython",
    "version": 3
   },
   "file_extension": ".py",
   "mimetype": "text/x-python",
   "name": "python",
   "nbconvert_exporter": "python",
   "pygments_lexer": "ipython3",
   "version": "3.8.3"
  },
  "latex_envs": {
   "LaTeX_envs_menu_present": true,
   "autoclose": false,
   "autocomplete": true,
   "bibliofile": "biblio.bib",
   "cite_by": "apalike",
   "current_citInitial": 1,
   "eqLabelWithNumbers": true,
   "eqNumInitial": 1,
   "hotkeys": {
    "equation": "Ctrl-E",
    "itemize": "Ctrl-I"
   },
   "labels_anchors": false,
   "latex_user_defs": false,
   "report_style_numbering": false,
   "user_envs_cfg": false
  },
  "nteract": {
   "version": "0.2.0"
  }
 },
 "nbformat": 4,
 "nbformat_minor": 2
}
